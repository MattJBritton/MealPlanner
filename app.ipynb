{
 "cells": [
  {
   "cell_type": "markdown",
   "metadata": {},
   "source": [
    "# Welcome to the Weekly Meal Planner App!\n",
    "\n",
    "This small app helps you plan a week's worth of meals by selecting recipes that share ingredients in common. This helps:\n",
    "\n",
    "- reduce waste\n",
    "- simplify shopping trips, and\n",
    "- save money!\n",
    "\n",
    "The recipes are also visualized in a way that helps you get a variety of proteins, grains, etc. for your dietary needs. \n",
    "\n",
    "### Uploading Your Recipes\n",
    "\n",
    "All you need to get started is a file containing a list of your favorite recipes. It should follow this format:\n",
    "\n",
    "| Recipe Name   | Ingredients: Protein  | Ingredients: Produce  | Ingredients: Pantry  | Ingredients: Starch/Grain  | Ingredients: Specialty  |\n",
    "| ------------- | ------------- | ------------- | ------------- | ------------- | ------------- |\n",
    "| Black Bean Chili     | black beans | tomatoes, onions | tomato paste | rice |  |\n",
    "| Lentil Soup     | lentils      |  onions, garlic, carrots  | bouillon cube, bay leaf |  | |\n",
    "\n",
    "- The different \"Ingredients: \" categories you use will show up in the output as differntly colored ingredients. If you don't want to separate ingredients in this way, just use one \"Ingredients: All\" column.\n",
    "- You don't need the quantity of the ingredient, just the name. Feel free to leave our basic things like salt.\n",
    "- You can include as many additional columns you want, in any order. They will show up when you hover over a recipe. Use this for the cookbook name or link, the name of the cuisine, Weight Watchers points, etc. \n",
    "\n",
    "### Using The App\n",
    "\n",
    "- Upon loading, the app runs using a set of sample recipes from the [Spoonacular API](https://spoonacular.com/food-api).\n",
    "- Click the Upload button below and select your personal recipe file.\n",
    "- Now, select one or more recipes from the search box on the left to get started. Note that you can search by recipe name or by any ingredient in the recipe.\n",
    "- Review the meal plan, and click \"Save Plan\" to save it if you want. Otherwise, setting the Saved Meal Plans dropdown back to the default to see another suggestion.\n",
    "- Run [the app](https://mybinder.org/v2/gh/MattJBritton/MealPlanner/master?urlpath=lab/tree/app.ipynb) each week to create a meal plan based on your needs!"
   ]
  },
  {
   "cell_type": "code",
   "execution_count": 2,
   "metadata": {},
   "outputs": [
    {
     "data": {
      "application/vnd.jupyter.widget-view+json": {
       "model_id": "7b0a9c5cb3e1483084c52333011b7999",
       "version_major": 2,
       "version_minor": 0
      },
      "text/plain": [
       "FileUpload(value={}, accept='.csv', description='Upload')"
      ]
     },
     "metadata": {},
     "output_type": "display_data"
    },
    {
     "data": {
      "application/vnd.jupyter.widget-view+json": {
       "model_id": "22a3a910fc3e461db3691469a500cb9a",
       "version_major": 2,
       "version_minor": 0
      },
      "text/plain": [
       "Output()"
      ]
     },
     "metadata": {},
     "output_type": "display_data"
    }
   ],
   "source": [
    "import meal_planner\n",
    "meal_planner.run_app()"
   ]
  },
  {
   "cell_type": "code",
   "execution_count": null,
   "metadata": {},
   "outputs": [],
   "source": []
  }
 ],
 "metadata": {
  "kernelspec": {
   "display_name": "Python 3",
   "language": "python",
   "name": "python3"
  },
  "language_info": {
   "codemirror_mode": {
    "name": "ipython",
    "version": 3
   },
   "file_extension": ".py",
   "mimetype": "text/x-python",
   "name": "python",
   "nbconvert_exporter": "python",
   "pygments_lexer": "ipython3",
   "version": "3.7.3"
  }
 },
 "nbformat": 4,
 "nbformat_minor": 4
}
