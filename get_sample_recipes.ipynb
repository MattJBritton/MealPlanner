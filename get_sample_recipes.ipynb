{
 "cells": [
  {
   "cell_type": "code",
   "execution_count": 1,
   "metadata": {},
   "outputs": [],
   "source": [
    "import numpy as np\n",
    "import pandas as pd\n",
    "import requests\n",
    "import json"
   ]
  },
  {
   "cell_type": "code",
   "execution_count": 2,
   "metadata": {},
   "outputs": [],
   "source": [
    "with open('credentials.json') as f:\n",
    "    credentials = json.load(f)"
   ]
  },
  {
   "cell_type": "code",
   "execution_count": 3,
   "metadata": {},
   "outputs": [],
   "source": [
    "search_request = requests.get(\n",
    "    f\"https://api.spoonacular.com/recipes/complexSearch?\"\n",
    "    f\"diet=vegetarian&type=main%20course&number=100&limitLicense=True\"\n",
    "    f\"&apiKey={credentials['API_KEY']}\"\n",
    ")"
   ]
  },
  {
   "cell_type": "code",
   "execution_count": 4,
   "metadata": {},
   "outputs": [
    {
     "data": {
      "text/plain": [
       "200"
      ]
     },
     "execution_count": 4,
     "metadata": {},
     "output_type": "execute_result"
    }
   ],
   "source": [
    "search_request.status_code"
   ]
  },
  {
   "cell_type": "code",
   "execution_count": 5,
   "metadata": {},
   "outputs": [],
   "source": [
    "results = search_request.json()"
   ]
  },
  {
   "cell_type": "code",
   "execution_count": 6,
   "metadata": {},
   "outputs": [],
   "source": [
    "recipe_ids = [str(x[\"id\"]) for x in results[\"results\"]]"
   ]
  },
  {
   "cell_type": "code",
   "execution_count": 7,
   "metadata": {},
   "outputs": [],
   "source": [
    "recipe_id_string = \",\".join(recipe_ids)"
   ]
  },
  {
   "cell_type": "code",
   "execution_count": 8,
   "metadata": {},
   "outputs": [
    {
     "data": {
      "text/plain": [
       "100"
      ]
     },
     "execution_count": 8,
     "metadata": {},
     "output_type": "execute_result"
    }
   ],
   "source": [
    "len(recipe_ids)"
   ]
  },
  {
   "cell_type": "code",
   "execution_count": 9,
   "metadata": {},
   "outputs": [],
   "source": [
    "recipe_details_request = requests.get(\n",
    "    f\"https://api.spoonacular.com/recipes/informationBulk?\"\n",
    "    f\"apiKey={credentials['API_KEY']}&ids={recipe_id_string}\"\n",
    ")"
   ]
  },
  {
   "cell_type": "code",
   "execution_count": 10,
   "metadata": {},
   "outputs": [
    {
     "data": {
      "text/plain": [
       "200"
      ]
     },
     "execution_count": 10,
     "metadata": {},
     "output_type": "execute_result"
    }
   ],
   "source": [
    "recipe_details_request.status_code"
   ]
  },
  {
   "cell_type": "code",
   "execution_count": 11,
   "metadata": {},
   "outputs": [],
   "source": [
    "recipe_details_results = recipe_details_request.json()"
   ]
  },
  {
   "cell_type": "code",
   "execution_count": 12,
   "metadata": {},
   "outputs": [
    {
     "data": {
      "text/plain": [
       "100"
      ]
     },
     "execution_count": 12,
     "metadata": {},
     "output_type": "execute_result"
    }
   ],
   "source": [
    "len(recipe_details_results)"
   ]
  },
  {
   "cell_type": "code",
   "execution_count": 13,
   "metadata": {},
   "outputs": [],
   "source": [
    "def ingredients_to_cols(recipe_json):\n",
    "    df = pd.DataFrame.from_dict(recipe_json[\"extendedIngredients\"])\n",
    "    df[\"aisle\"] = df[\"aisle\"].apply(lambda x: \"None\" if x is None else x.split(\";\")[0])\n",
    "    df = df.query(\"~name.str.contains('salt')\")\n",
    "    return df.groupby(\"aisle\")[\"name\"].apply(','.join).reset_index().set_index(\"aisle\")[\"name\"].to_dict()"
   ]
  },
  {
   "cell_type": "code",
   "execution_count": 14,
   "metadata": {},
   "outputs": [],
   "source": [
    "df = pd.DataFrame([{\n",
    "    **{\n",
    "        \"title\": x[\"title\"],\n",
    "        \"source\": x[\"creditsText\"],\n",
    "        \"link\": x[\"sourceUrl\"],\n",
    "        \"minutes_to_prepare\": x[\"readyInMinutes\"],\n",
    "        \"cuisine\": \"\" if len(x[\"cuisines\"]) == 0 else x[\"cuisines\"][0]\n",
    "    },\n",
    "    **ingredients_to_cols(x)\n",
    "} for x in recipe_details_results])"
   ]
  },
  {
   "cell_type": "code",
   "execution_count": 15,
   "metadata": {},
   "outputs": [
    {
     "data": {
      "text/plain": [
       "title                            0\n",
       "source                           1\n",
       "link                             0\n",
       "minutes_to_prepare               0\n",
       "cuisine                          0\n",
       "Baking                          75\n",
       "None                            95\n",
       "Oil, Vinegar, Salad Dressing    39\n",
       "Produce                          6\n",
       "Spices and Seasonings           41\n",
       "Canned and Jarred               63\n",
       "Condiments                      91\n",
       "Pasta and Rice                  48\n",
       "Beverages                       71\n",
       "Ethnic Foods                    70\n",
       "Nuts                            83\n",
       "Cheese                          64\n",
       "Milk, Eggs, Other Dairy         65\n",
       "Bakery/Bread                    89\n",
       "?                               96\n",
       "Health Foods                    92\n",
       "Nut butters, Jams, and Honey    93\n",
       "Frozen                          97\n",
       "Dried Fruits                    96\n",
       "Online                          99\n",
       "Refrigerated                    93\n",
       "Savory Snacks                   95\n",
       "Cereal                          93\n",
       "Alcoholic Beverages             98\n",
       "Gluten Free                     96\n",
       "dtype: int64"
      ]
     },
     "execution_count": 15,
     "metadata": {},
     "output_type": "execute_result"
    }
   ],
   "source": [
    "df.isna().sum()"
   ]
  },
  {
   "cell_type": "code",
   "execution_count": 16,
   "metadata": {},
   "outputs": [],
   "source": [
    "df = df.fillna(\"\")"
   ]
  },
  {
   "cell_type": "code",
   "execution_count": 17,
   "metadata": {},
   "outputs": [],
   "source": [
    "def combine_str_cols(col_list):\n",
    "    new_col = np.add.reduce([df[x].astype(str)+\",\" for x in col_list])\n",
    "    new_col = pd.Series(new_col)\\\n",
    "        .str.split(\",\")\\\n",
    "        .apply(set).apply(\",\".join)\\\n",
    "        .str.replace(\",_\", \",\")\\\n",
    "        .str.replace(' {2,}', ' ')\\\n",
    "        .str.replace(',{2,}', ' ')\\\n",
    "        .str.strip(\",\")  \n",
    "    return new_col"
   ]
  },
  {
   "cell_type": "code",
   "execution_count": 18,
   "metadata": {},
   "outputs": [],
   "source": [
    "# merge columns to create Pantry, which is less unwieldy\n",
    "pantry_columns = [\n",
    "    \"Baking\", \n",
    "    \"Oil, Vinegar, Salad Dressing\",\n",
    "    \"Canned and Jarred\", \n",
    "    \"Nuts\", \n",
    "    \"Nut butters, Jams, and Honey\",\n",
    "    \"Dried Fruits\",\n",
    "    \"Savory Snacks\",\n",
    "    \"Cereal\",\n",
    "    \"Online\",\n",
    "    \"Health Foods\"\n",
    "]\n",
    "\n",
    "df[\"Pantry\"] = combine_str_cols(pantry_columns)"
   ]
  },
  {
   "cell_type": "code",
   "execution_count": 19,
   "metadata": {},
   "outputs": [
    {
     "data": {
      "text/plain": [
       "            95\n",
       "potatoes     4\n",
       "potato       1\n",
       "Name: None, dtype: int64"
      ]
     },
     "execution_count": 19,
     "metadata": {},
     "output_type": "execute_result"
    }
   ],
   "source": [
    "df[\"None\"].value_counts()"
   ]
  },
  {
   "cell_type": "code",
   "execution_count": 20,
   "metadata": {},
   "outputs": [
    {
     "data": {
      "text/plain": [
       "                    96\n",
       "almond meal          2\n",
       "buckwheat flour      1\n",
       "brown rice flour     1\n",
       "Name: Gluten Free, dtype: int64"
      ]
     },
     "execution_count": 20,
     "metadata": {},
     "output_type": "execute_result"
    }
   ],
   "source": [
    "df[\"Gluten Free\"].value_counts()"
   ]
  },
  {
   "cell_type": "code",
   "execution_count": 21,
   "metadata": {},
   "outputs": [],
   "source": [
    "df[\"Baking\"] = combine_str_cols([\"Baking\", \"Gluten Free\"])"
   ]
  },
  {
   "cell_type": "code",
   "execution_count": 22,
   "metadata": {},
   "outputs": [],
   "source": [
    "df[\"Dairy\"] = combine_str_cols([\"Milk, Eggs, Other Dairy\", \"Cheese\"])"
   ]
  },
  {
   "cell_type": "code",
   "execution_count": 23,
   "metadata": {},
   "outputs": [],
   "source": [
    "df[\"Produce\"] = np.where(\n",
    "    df[\"None\"] != \"\",\n",
    "    df[\"Produce\"] + \",potatoes\",\n",
    "    df[\"Produce\"]\n",
    ")"
   ]
  },
  {
   "cell_type": "code",
   "execution_count": 24,
   "metadata": {},
   "outputs": [],
   "source": [
    "df = df.drop(\n",
    "    pantry_columns\\\n",
    "    + [\"None\", \"?\", \"Gluten Free\", \"Milk, Eggs, Other Dairy\", \"Cheese\", \"Health Foods\", \"Online\"], \n",
    "    axis=1\n",
    ")"
   ]
  },
  {
   "cell_type": "code",
   "execution_count": 29,
   "metadata": {},
   "outputs": [],
   "source": [
    "ingredient_col_rename_map = {\n",
    "    x:\"Ingredients: \"+x for x in df.columns if x not in ['title', 'source', 'link', 'minutes_to_prepare', 'cuisine']\n",
    "}"
   ]
  },
  {
   "cell_type": "code",
   "execution_count": 32,
   "metadata": {},
   "outputs": [],
   "source": [
    "ingredient_col_rename_map.update({\"title\":\"Recipe Name\"})"
   ]
  },
  {
   "cell_type": "code",
   "execution_count": 34,
   "metadata": {},
   "outputs": [],
   "source": [
    "df = df.rename(ingredient_col_rename_map, axis=1)"
   ]
  },
  {
   "cell_type": "code",
   "execution_count": 35,
   "metadata": {},
   "outputs": [],
   "source": [
    "df.to_csv(\"data/sample.csv\", index=False)"
   ]
  }
 ],
 "metadata": {
  "kernelspec": {
   "display_name": "Python 3",
   "language": "python",
   "name": "python3"
  },
  "language_info": {
   "codemirror_mode": {
    "name": "ipython",
    "version": 3
   },
   "file_extension": ".py",
   "mimetype": "text/x-python",
   "name": "python",
   "nbconvert_exporter": "python",
   "pygments_lexer": "ipython3",
   "version": "3.7.3"
  }
 },
 "nbformat": 4,
 "nbformat_minor": 4
}
